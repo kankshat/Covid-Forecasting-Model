{
 "cells": [
  {
   "cell_type": "code",
   "execution_count": 1,
   "id": "55c286f8",
   "metadata": {},
   "outputs": [],
   "source": [
    "from datetime import date\n",
    "import covidcast"
   ]
  },
  {
   "cell_type": "markdown",
   "id": "ac641e48",
   "metadata": {},
   "source": [
    "Date may have a wider range later on for more training data"
   ]
  },
  {
   "cell_type": "code",
   "execution_count": 2,
   "id": "3b49230f",
   "metadata": {},
   "outputs": [],
   "source": [
    "start = date(2020, 3, 1)\n",
    "end = date(2021, 3, 1)\n",
    "\n",
    "CA_counties_to_fips = covidcast.fips_to_name('^06.*', ties_method='all')\n",
    "CA_counties_to_fips = {value[0]: key for key, value in CA_counties_to_fips[0].items()}\n",
    "\n",
    "# CA_counties_to_fips"
   ]
  },
  {
   "cell_type": "code",
   "execution_count": 10,
   "id": "0828ef77",
   "metadata": {},
   "outputs": [],
   "source": [
    "CA_counties = list(CA_counties_to_fips.keys())\n",
    "CA_counties = covidcast.name_to_fips(CA_counties)[1:]\n",
    "\n",
    "# CA_counties"
   ]
  },
  {
   "cell_type": "markdown",
   "id": "aef84e44",
   "metadata": {},
   "source": [
    "### Indicator Combination: ground truth"
   ]
  },
  {
   "cell_type": "code",
   "execution_count": 4,
   "id": "fa841ef8",
   "metadata": {},
   "outputs": [
    {
     "data": {
      "text/plain": [
       "array(['06001', '06003', '06005', '06007', '06009', '06011', '06013',\n",
       "       '06015', '06017', '06019', '06021', '06023', '06025', '06027',\n",
       "       '06029', '06031', '06033', '06035', '06037', '06039', '06041',\n",
       "       '06043', '06045', '06047', '06049', '06051', '06053', '06055',\n",
       "       '06059', '06061', '06063', '06065', '06067', '06069', '06071',\n",
       "       '06073', '06075', '06077', '06079', '06081', '06083', '06085',\n",
       "       '06089', '06091', '06093', '06095', '06097', '06099', '06101',\n",
       "       '06103', '06105', '06107', '06109', '06111', '06113', '06115'],\n",
       "      dtype=object)"
      ]
     },
     "execution_count": 4,
     "metadata": {},
     "output_type": "execute_result"
    }
   ],
   "source": [
    "indicator_combination = covidcast.signal(\n",
    "    data_source='indicator-combination',\n",
    "    signal='confirmed_incidence_num',\n",
    "    start_day=start, end_day=end, geo_values=CA_counties\n",
    ")\n",
    "\n",
    "indicator_combination = indicator_combination.drop([0,1])\n",
    "indicator_combination['geo_value'].unique()"
   ]
  },
  {
   "cell_type": "markdown",
   "id": "fbf0a305",
   "metadata": {},
   "source": [
    "### Change Healthcare: % of confirmed cases at doctor visit"
   ]
  },
  {
   "cell_type": "code",
   "execution_count": 5,
   "id": "4234e954",
   "metadata": {},
   "outputs": [
    {
     "data": {
      "text/plain": [
       "array(['06001', '06005', '06007', '06009', '06011', '06013', '06015',\n",
       "       '06017', '06019', '06021', '06023', '06025', '06027', '06029',\n",
       "       '06031', '06033', '06035', '06037', '06039', '06041', '06043',\n",
       "       '06045', '06047', '06049', '06051', '06053', '06055', '06059',\n",
       "       '06061', '06063', '06065', '06067', '06069', '06071', '06073',\n",
       "       '06075', '06077', '06079', '06081', '06083', '06085', '06089',\n",
       "       '06091', '06093', '06095', '06097', '06099', '06101', '06103',\n",
       "       '06105', '06107', '06109', '06111', '06113', '06115'], dtype=object)"
      ]
     },
     "execution_count": 5,
     "metadata": {},
     "output_type": "execute_result"
    }
   ],
   "source": [
    "change_health = covidcast.signal(\n",
    "    data_source='chng',\n",
    "    signal='smoothed_adj_outpatient_covid',\n",
    "    start_day=start, end_day=end, geo_values=CA_counties\n",
    ")\n",
    "\n",
    "change_health = change_health.drop([0,1])\n",
    "change_health['geo_value'].unique()"
   ]
  },
  {
   "cell_type": "markdown",
   "id": "3ae8782d",
   "metadata": {},
   "source": [
    "### Hospital Admissions: % of new hospital admissions with COVID-associated diagnoses, based on claims data from health system partners, smoothed in time using a Gaussian linear smoother"
   ]
  },
  {
   "cell_type": "code",
   "execution_count": 6,
   "id": "c526ace4",
   "metadata": {},
   "outputs": [
    {
     "data": {
      "text/plain": [
       "array(['06001', '06013', '06029', '06037', '06059', '06061', '06065',\n",
       "       '06067', '06071', '06073', '06075', '06081', '06085', '06111',\n",
       "       '06083', '06077', '06019', '06031', '06099', '06047', '06095',\n",
       "       '06041', '06079', '06097', '06053', '06107', '04023', '06007',\n",
       "       '06113', '06017'], dtype=object)"
      ]
     },
     "execution_count": 6,
     "metadata": {},
     "output_type": "execute_result"
    }
   ],
   "source": [
    "hospital_admit = covidcast.signal(\n",
    "    data_source='hospital-admissions',\n",
    "    signal='smoothed_adj_covid19_from_claims',\n",
    "    start_day=start, end_day=end, geo_values=CA_counties\n",
    ")\n",
    "\n",
    "hospital_admit['geo_value'].unique()"
   ]
  },
  {
   "cell_type": "code",
   "execution_count": 22,
   "id": "e536966e",
   "metadata": {},
   "outputs": [
    {
     "data": {
      "text/plain": [
       "array(['06001', '06013', '06029', '06037', '06059', '06061', '06065',\n",
       "       '06067', '06071', '06073', '06075', '06081', '06085', '06111',\n",
       "       '06083', '06077', '06019', '06031', '06099', '06047', '06095',\n",
       "       '06041', '06079', '06097', '06053', '06107', '06007', '06113',\n",
       "       '06017'], dtype=object)"
      ]
     },
     "execution_count": 22,
     "metadata": {},
     "output_type": "execute_result"
    }
   ],
   "source": [
    "hospital_admit = hospital_admit[hospital_admit['geo_value']!='04023']\n",
    "hospital_admit['geo_value'].unique()"
   ]
  },
  {
   "cell_type": "markdown",
   "id": "8887c944",
   "metadata": {},
   "source": [
    "### Doctor Visits: % of confirmed cases at doctor visit (comes from another source)"
   ]
  },
  {
   "cell_type": "code",
   "execution_count": 7,
   "id": "bf0097ab",
   "metadata": {},
   "outputs": [
    {
     "data": {
      "text/plain": [
       "array(['06001', '06005', '06007', '06011', '06013', '06017', '06019',\n",
       "       '06023', '06025', '06029', '06031', '06037', '06039', '06041',\n",
       "       '06045', '06047', '06053', '06055', '06059', '06061', '06065',\n",
       "       '06067', '06069', '06071', '06073', '06075', '06077', '06079',\n",
       "       '06081', '06083', '06085', '06089', '06095', '06097', '06099',\n",
       "       '06101', '06107', '06111', '06113', '06009', '06033', '06115',\n",
       "       '06103', '06109', '06043', '06093', '06021', '06063', '06027',\n",
       "       '06035'], dtype=object)"
      ]
     },
     "execution_count": 7,
     "metadata": {},
     "output_type": "execute_result"
    }
   ],
   "source": [
    "doc_visits = covidcast.signal(\n",
    "    data_source=\"doctor-visits\",\n",
    "    signal=\"smoothed_adj_cli\",\n",
    "    start_day=start, end_day=end, geo_values=CA_counties\n",
    ")\n",
    "\n",
    "doc_visits = doc_visits.drop([0])\n",
    "doc_visits['geo_value'].unique()"
   ]
  },
  {
   "cell_type": "markdown",
   "id": "7dca76ab",
   "metadata": {},
   "source": [
    "### Mobility data"
   ]
  },
  {
   "cell_type": "code",
   "execution_count": 11,
   "id": "d6b4f034",
   "metadata": {},
   "outputs": [
    {
     "name": "stderr",
     "output_type": "stream",
     "text": [
      "/Users/andynguyen/opt/anaconda3/lib/python3.8/site-packages/covidcast/covidcast.py:423: NoDataWarning: No safegraph restaurants_visit_prop data found on 20201214 for geography 'county'\n",
      "  warnings.warn(f\"No {data_source} {signal} data found on {day_str} \"\n",
      "/Users/andynguyen/opt/anaconda3/lib/python3.8/site-packages/covidcast/covidcast.py:423: NoDataWarning: No safegraph restaurants_visit_prop data found on 20201215 for geography 'county'\n",
      "  warnings.warn(f\"No {data_source} {signal} data found on {day_str} \"\n",
      "/Users/andynguyen/opt/anaconda3/lib/python3.8/site-packages/covidcast/covidcast.py:423: NoDataWarning: No safegraph restaurants_visit_prop data found on 20201216 for geography 'county'\n",
      "  warnings.warn(f\"No {data_source} {signal} data found on {day_str} \"\n",
      "/Users/andynguyen/opt/anaconda3/lib/python3.8/site-packages/covidcast/covidcast.py:423: NoDataWarning: No safegraph restaurants_visit_prop data found on 20201217 for geography 'county'\n",
      "  warnings.warn(f\"No {data_source} {signal} data found on {day_str} \"\n",
      "/Users/andynguyen/opt/anaconda3/lib/python3.8/site-packages/covidcast/covidcast.py:423: NoDataWarning: No safegraph restaurants_visit_prop data found on 20201218 for geography 'county'\n",
      "  warnings.warn(f\"No {data_source} {signal} data found on {day_str} \"\n",
      "/Users/andynguyen/opt/anaconda3/lib/python3.8/site-packages/covidcast/covidcast.py:423: NoDataWarning: No safegraph restaurants_visit_prop data found on 20201219 for geography 'county'\n",
      "  warnings.warn(f\"No {data_source} {signal} data found on {day_str} \"\n",
      "/Users/andynguyen/opt/anaconda3/lib/python3.8/site-packages/covidcast/covidcast.py:423: NoDataWarning: No safegraph restaurants_visit_prop data found on 20201220 for geography 'county'\n",
      "  warnings.warn(f\"No {data_source} {signal} data found on {day_str} \"\n"
     ]
    },
    {
     "data": {
      "text/plain": [
       "array(['06001', '06003', '06005', '06007', '06009', '06011', '06013',\n",
       "       '06015', '06017', '06019', '06021', '06023', '06025', '06027',\n",
       "       '06029', '06031', '06033', '06035', '06037', '06039', '06041',\n",
       "       '06045', '06047', '06051', '06053', '06055', '06059', '06061',\n",
       "       '06063', '06065', '06067', '06069', '06071', '06073', '06075',\n",
       "       '06077', '06079', '06081', '06083', '06085', '06089', '06091',\n",
       "       '06093', '06095', '06097', '06099', '06101', '06103', '06105',\n",
       "       '06107', '06109', '06111', '06113', '06115', '06043'], dtype=object)"
      ]
     },
     "execution_count": 11,
     "metadata": {},
     "output_type": "execute_result"
    }
   ],
   "source": [
    "restaurants_prop = covidcast.signal(\n",
    "    data_source=\"safegraph\",\n",
    "    signal=\"restaurants_visit_prop\",\n",
    "    start_day=start, end_day=end, geo_values=CA_counties\n",
    ") \n",
    "\n",
    "restaurants_prop = restaurants_prop.drop([0])\n",
    "restaurants_prop['geo_value'].unique()"
   ]
  },
  {
   "cell_type": "markdown",
   "id": "02b9ed93",
   "metadata": {},
   "source": [
    "### Merge"
   ]
  },
  {
   "cell_type": "code",
   "execution_count": 120,
   "id": "25f40b6a",
   "metadata": {},
   "outputs": [],
   "source": [
    "# df_list = [change_health, hospital_admit, doc_visits, restaurants_prop, indicator_combination]\n",
    "df_list = [change_health, hospital_admit, doc_visits, indicator_combination]\n",
    "\n",
    "merged = covidcast.aggregate_signals(df_list)"
   ]
  },
  {
   "cell_type": "code",
   "execution_count": 121,
   "id": "37617665",
   "metadata": {},
   "outputs": [
    {
     "data": {
      "text/plain": [
       "array([0.0000e+00, 1.0000e+00, 2.0000e+00, ..., 2.1902e+04, 2.2236e+04,\n",
       "       2.8549e+04])"
      ]
     },
     "execution_count": 121,
     "metadata": {},
     "output_type": "execute_result"
    }
   ],
   "source": [
    "import numpy as np\n",
    "\n",
    "merged = merged.rename(\n",
    "    columns={\n",
    "        'chng_smoothed_adj_outpatient_covid_0_value': 'change_health',\n",
    "        'hospital-admissions_smoothed_adj_covid19_from_claims_1_value': 'hospital_admit',\n",
    "#         'fb-survey_smoothed_cli_3_value': 'survey',\n",
    "        'doctor-visits_smoothed_adj_cli_2_value': 'doc_visits',\n",
    "#         'safegraph_restaurants_visit_prop_3_value': 'restaurants_prop',\n",
    "        'indicator-combination_confirmed_incidence_num_3_value': 'ground_truth'\n",
    "    }\n",
    ")\n",
    "\n",
    "# keep_list = ['geo_value', 'time_value',\n",
    "#              'change_health', 'hospital_admit',\n",
    "#              'doc_visits', 'restaurants_prop', 'ground_truth']\n",
    "keep_list = ['geo_value', 'time_value',\n",
    "             'change_health', 'hospital_admit',\n",
    "             'doc_visits', 'ground_truth']\n",
    "merged = merged[keep_list]\n",
    "merged.loc[:, 'ground_truth'] = merged.loc[:, 'ground_truth'].abs()\n",
    "np.sort(merged['ground_truth'].unique())"
   ]
  },
  {
   "cell_type": "markdown",
   "id": "9185e539",
   "metadata": {},
   "source": [
    "Missing values are caused by different sources of data having different counties they keep track of. We decided to find the average of the respective column values for every day and give the NaN values the value of the average."
   ]
  },
  {
   "cell_type": "code",
   "execution_count": 123,
   "id": "c2d72246",
   "metadata": {},
   "outputs": [
    {
     "data": {
      "text/html": [
       "<div>\n",
       "<style scoped>\n",
       "    .dataframe tbody tr th:only-of-type {\n",
       "        vertical-align: middle;\n",
       "    }\n",
       "\n",
       "    .dataframe tbody tr th {\n",
       "        vertical-align: top;\n",
       "    }\n",
       "\n",
       "    .dataframe thead th {\n",
       "        text-align: right;\n",
       "    }\n",
       "</style>\n",
       "<table border=\"1\" class=\"dataframe\">\n",
       "  <thead>\n",
       "    <tr style=\"text-align: right;\">\n",
       "      <th></th>\n",
       "      <th>geo_value</th>\n",
       "      <th>time_value</th>\n",
       "      <th>change_health</th>\n",
       "      <th>hospital_admit</th>\n",
       "      <th>doc_visits</th>\n",
       "      <th>ground_truth</th>\n",
       "    </tr>\n",
       "  </thead>\n",
       "  <tbody>\n",
       "    <tr>\n",
       "      <th>0</th>\n",
       "      <td>06001</td>\n",
       "      <td>2020-03-01</td>\n",
       "      <td>0.011162</td>\n",
       "      <td>0.119646</td>\n",
       "      <td>0.000000</td>\n",
       "      <td>0.0</td>\n",
       "    </tr>\n",
       "    <tr>\n",
       "      <th>56</th>\n",
       "      <td>06001</td>\n",
       "      <td>2020-03-02</td>\n",
       "      <td>0.013988</td>\n",
       "      <td>0.119067</td>\n",
       "      <td>0.000000</td>\n",
       "      <td>0.0</td>\n",
       "    </tr>\n",
       "    <tr>\n",
       "      <th>112</th>\n",
       "      <td>06001</td>\n",
       "      <td>2020-03-03</td>\n",
       "      <td>0.012357</td>\n",
       "      <td>0.119366</td>\n",
       "      <td>0.000000</td>\n",
       "      <td>1.0</td>\n",
       "    </tr>\n",
       "    <tr>\n",
       "      <th>168</th>\n",
       "      <td>06001</td>\n",
       "      <td>2020-03-04</td>\n",
       "      <td>0.011438</td>\n",
       "      <td>0.119776</td>\n",
       "      <td>0.019267</td>\n",
       "      <td>0.0</td>\n",
       "    </tr>\n",
       "    <tr>\n",
       "      <th>224</th>\n",
       "      <td>06001</td>\n",
       "      <td>2020-03-05</td>\n",
       "      <td>0.010639</td>\n",
       "      <td>0.119895</td>\n",
       "      <td>0.016927</td>\n",
       "      <td>0.0</td>\n",
       "    </tr>\n",
       "    <tr>\n",
       "      <th>...</th>\n",
       "      <td>...</td>\n",
       "      <td>...</td>\n",
       "      <td>...</td>\n",
       "      <td>...</td>\n",
       "      <td>...</td>\n",
       "      <td>...</td>\n",
       "    </tr>\n",
       "    <tr>\n",
       "      <th>20216</th>\n",
       "      <td>06001</td>\n",
       "      <td>2021-02-25</td>\n",
       "      <td>0.342982</td>\n",
       "      <td>0.122985</td>\n",
       "      <td>7.109562</td>\n",
       "      <td>138.0</td>\n",
       "    </tr>\n",
       "    <tr>\n",
       "      <th>20272</th>\n",
       "      <td>06001</td>\n",
       "      <td>2021-02-26</td>\n",
       "      <td>0.325226</td>\n",
       "      <td>0.624193</td>\n",
       "      <td>6.746090</td>\n",
       "      <td>123.0</td>\n",
       "    </tr>\n",
       "    <tr>\n",
       "      <th>20328</th>\n",
       "      <td>06001</td>\n",
       "      <td>2021-02-27</td>\n",
       "      <td>0.318205</td>\n",
       "      <td>1.216079</td>\n",
       "      <td>6.585704</td>\n",
       "      <td>122.0</td>\n",
       "    </tr>\n",
       "    <tr>\n",
       "      <th>20384</th>\n",
       "      <td>06001</td>\n",
       "      <td>2021-02-28</td>\n",
       "      <td>0.337996</td>\n",
       "      <td>1.768820</td>\n",
       "      <td>6.048529</td>\n",
       "      <td>96.0</td>\n",
       "    </tr>\n",
       "    <tr>\n",
       "      <th>20440</th>\n",
       "      <td>06001</td>\n",
       "      <td>2021-03-01</td>\n",
       "      <td>0.412884</td>\n",
       "      <td>2.412579</td>\n",
       "      <td>5.636907</td>\n",
       "      <td>74.0</td>\n",
       "    </tr>\n",
       "  </tbody>\n",
       "</table>\n",
       "<p>366 rows × 6 columns</p>\n",
       "</div>"
      ],
      "text/plain": [
       "      geo_value time_value  change_health  hospital_admit  doc_visits  \\\n",
       "0         06001 2020-03-01       0.011162        0.119646    0.000000   \n",
       "56        06001 2020-03-02       0.013988        0.119067    0.000000   \n",
       "112       06001 2020-03-03       0.012357        0.119366    0.000000   \n",
       "168       06001 2020-03-04       0.011438        0.119776    0.019267   \n",
       "224       06001 2020-03-05       0.010639        0.119895    0.016927   \n",
       "...         ...        ...            ...             ...         ...   \n",
       "20216     06001 2021-02-25       0.342982        0.122985    7.109562   \n",
       "20272     06001 2021-02-26       0.325226        0.624193    6.746090   \n",
       "20328     06001 2021-02-27       0.318205        1.216079    6.585704   \n",
       "20384     06001 2021-02-28       0.337996        1.768820    6.048529   \n",
       "20440     06001 2021-03-01       0.412884        2.412579    5.636907   \n",
       "\n",
       "       ground_truth  \n",
       "0               0.0  \n",
       "56              0.0  \n",
       "112             1.0  \n",
       "168             0.0  \n",
       "224             0.0  \n",
       "...             ...  \n",
       "20216         138.0  \n",
       "20272         123.0  \n",
       "20328         122.0  \n",
       "20384          96.0  \n",
       "20440          74.0  \n",
       "\n",
       "[366 rows x 6 columns]"
      ]
     },
     "execution_count": 123,
     "metadata": {},
     "output_type": "execute_result"
    }
   ],
   "source": [
    "# for every day, we took the mean values of every column with values of that day\n",
    "# and gave the NaN values their respective mean values for that day\n",
    "for date in merged['time_value'].unique():\n",
    "    change_mean = merged[merged['time_value']==date]['change_health'].mean()\n",
    "    hosp_mean = merged[merged['time_value']==date]['hospital_admit'].mean()\n",
    "#     survey_mean = merged[merged['time_value']==date]['survey'].mean()\n",
    "    doc_mean = merged[merged['time_value']==date]['doc_visits'].mean()\n",
    "#     rest_mean = merged[merged['time_value']==date]['restaurants_prop'].mean()\n",
    "    ground_mean = int(merged[merged['time_value']==date]['ground_truth'].mean())\n",
    "    \n",
    "    \n",
    "    merged.loc[merged['time_value']==date, 'change_health'] = merged.loc[merged['time_value']==date, 'change_health'].fillna(change_mean)\n",
    "    merged.loc[merged['time_value']==date, 'hospital_admit'] = merged.loc[merged['time_value']==date, 'hospital_admit'].fillna(hosp_mean)\n",
    "#     merged.loc[merged['time_value']==date, 'survey'] = merged.loc[merged['time_value']==date, 'survey'].fillna(survey_mean)\n",
    "    merged.loc[merged['time_value']==date, 'doc_visits'] = merged.loc[merged['time_value']==date, 'doc_visits'].fillna(doc_mean)\n",
    "#     merged.loc[merged['time_value']==date, 'restaurants_prop'] = merged.loc[merged['time_value']==date, 'restaurants_prop'].fillna(rest_mean)\n",
    "    merged.loc[merged['time_value']==date, 'ground_truth'] = merged.loc[merged['time_value']==date, 'ground_truth'].fillna(ground_mean)\n",
    "\n",
    "merged = merged.sort_values(['time_value', 'geo_value'])\n",
    "merged[merged['geo_value']=='06001']"
   ]
  },
  {
   "cell_type": "code",
   "execution_count": 124,
   "id": "d2786400",
   "metadata": {},
   "outputs": [
    {
     "data": {
      "text/html": [
       "<div>\n",
       "<style scoped>\n",
       "    .dataframe tbody tr th:only-of-type {\n",
       "        vertical-align: middle;\n",
       "    }\n",
       "\n",
       "    .dataframe tbody tr th {\n",
       "        vertical-align: top;\n",
       "    }\n",
       "\n",
       "    .dataframe thead th {\n",
       "        text-align: right;\n",
       "    }\n",
       "</style>\n",
       "<table border=\"1\" class=\"dataframe\">\n",
       "  <thead>\n",
       "    <tr style=\"text-align: right;\">\n",
       "      <th></th>\n",
       "      <th>geo_value</th>\n",
       "      <th>time_value</th>\n",
       "      <th>change_health</th>\n",
       "      <th>hospital_admit</th>\n",
       "      <th>doc_visits</th>\n",
       "      <th>ground_truth</th>\n",
       "      <th>ground_truth+1</th>\n",
       "      <th>change_health-1</th>\n",
       "      <th>hospital_admit-1</th>\n",
       "      <th>doc_visits-1</th>\n",
       "    </tr>\n",
       "  </thead>\n",
       "  <tbody>\n",
       "    <tr>\n",
       "      <th>56</th>\n",
       "      <td>06001</td>\n",
       "      <td>2020-03-02</td>\n",
       "      <td>0.013988</td>\n",
       "      <td>0.119067</td>\n",
       "      <td>0.000000</td>\n",
       "      <td>0.0</td>\n",
       "      <td>1.0</td>\n",
       "      <td>0.011162</td>\n",
       "      <td>0.119646</td>\n",
       "      <td>0.000000</td>\n",
       "    </tr>\n",
       "    <tr>\n",
       "      <th>112</th>\n",
       "      <td>06001</td>\n",
       "      <td>2020-03-03</td>\n",
       "      <td>0.012357</td>\n",
       "      <td>0.119366</td>\n",
       "      <td>0.000000</td>\n",
       "      <td>1.0</td>\n",
       "      <td>0.0</td>\n",
       "      <td>0.013988</td>\n",
       "      <td>0.119067</td>\n",
       "      <td>0.000000</td>\n",
       "    </tr>\n",
       "    <tr>\n",
       "      <th>168</th>\n",
       "      <td>06001</td>\n",
       "      <td>2020-03-04</td>\n",
       "      <td>0.011438</td>\n",
       "      <td>0.119776</td>\n",
       "      <td>0.019267</td>\n",
       "      <td>0.0</td>\n",
       "      <td>0.0</td>\n",
       "      <td>0.012357</td>\n",
       "      <td>0.119366</td>\n",
       "      <td>0.000000</td>\n",
       "    </tr>\n",
       "    <tr>\n",
       "      <th>224</th>\n",
       "      <td>06001</td>\n",
       "      <td>2020-03-05</td>\n",
       "      <td>0.010639</td>\n",
       "      <td>0.119895</td>\n",
       "      <td>0.016927</td>\n",
       "      <td>0.0</td>\n",
       "      <td>0.0</td>\n",
       "      <td>0.011438</td>\n",
       "      <td>0.119776</td>\n",
       "      <td>0.019267</td>\n",
       "    </tr>\n",
       "    <tr>\n",
       "      <th>280</th>\n",
       "      <td>06001</td>\n",
       "      <td>2020-03-06</td>\n",
       "      <td>0.010242</td>\n",
       "      <td>0.119820</td>\n",
       "      <td>0.014341</td>\n",
       "      <td>0.0</td>\n",
       "      <td>1.0</td>\n",
       "      <td>0.010639</td>\n",
       "      <td>0.119895</td>\n",
       "      <td>0.016927</td>\n",
       "    </tr>\n",
       "    <tr>\n",
       "      <th>...</th>\n",
       "      <td>...</td>\n",
       "      <td>...</td>\n",
       "      <td>...</td>\n",
       "      <td>...</td>\n",
       "      <td>...</td>\n",
       "      <td>...</td>\n",
       "      <td>...</td>\n",
       "      <td>...</td>\n",
       "      <td>...</td>\n",
       "      <td>...</td>\n",
       "    </tr>\n",
       "    <tr>\n",
       "      <th>20160</th>\n",
       "      <td>06001</td>\n",
       "      <td>2021-02-24</td>\n",
       "      <td>0.344247</td>\n",
       "      <td>0.099222</td>\n",
       "      <td>7.063695</td>\n",
       "      <td>153.0</td>\n",
       "      <td>138.0</td>\n",
       "      <td>0.345074</td>\n",
       "      <td>0.093383</td>\n",
       "      <td>7.354877</td>\n",
       "    </tr>\n",
       "    <tr>\n",
       "      <th>20216</th>\n",
       "      <td>06001</td>\n",
       "      <td>2021-02-25</td>\n",
       "      <td>0.342982</td>\n",
       "      <td>0.122985</td>\n",
       "      <td>7.109562</td>\n",
       "      <td>138.0</td>\n",
       "      <td>123.0</td>\n",
       "      <td>0.344247</td>\n",
       "      <td>0.099222</td>\n",
       "      <td>7.063695</td>\n",
       "    </tr>\n",
       "    <tr>\n",
       "      <th>20272</th>\n",
       "      <td>06001</td>\n",
       "      <td>2021-02-26</td>\n",
       "      <td>0.325226</td>\n",
       "      <td>0.624193</td>\n",
       "      <td>6.746090</td>\n",
       "      <td>123.0</td>\n",
       "      <td>122.0</td>\n",
       "      <td>0.342982</td>\n",
       "      <td>0.122985</td>\n",
       "      <td>7.109562</td>\n",
       "    </tr>\n",
       "    <tr>\n",
       "      <th>20328</th>\n",
       "      <td>06001</td>\n",
       "      <td>2021-02-27</td>\n",
       "      <td>0.318205</td>\n",
       "      <td>1.216079</td>\n",
       "      <td>6.585704</td>\n",
       "      <td>122.0</td>\n",
       "      <td>96.0</td>\n",
       "      <td>0.325226</td>\n",
       "      <td>0.624193</td>\n",
       "      <td>6.746090</td>\n",
       "    </tr>\n",
       "    <tr>\n",
       "      <th>20384</th>\n",
       "      <td>06001</td>\n",
       "      <td>2021-02-28</td>\n",
       "      <td>0.337996</td>\n",
       "      <td>1.768820</td>\n",
       "      <td>6.048529</td>\n",
       "      <td>96.0</td>\n",
       "      <td>74.0</td>\n",
       "      <td>0.318205</td>\n",
       "      <td>1.216079</td>\n",
       "      <td>6.585704</td>\n",
       "    </tr>\n",
       "  </tbody>\n",
       "</table>\n",
       "<p>364 rows × 10 columns</p>\n",
       "</div>"
      ],
      "text/plain": [
       "      geo_value time_value  change_health  hospital_admit  doc_visits  \\\n",
       "56        06001 2020-03-02       0.013988        0.119067    0.000000   \n",
       "112       06001 2020-03-03       0.012357        0.119366    0.000000   \n",
       "168       06001 2020-03-04       0.011438        0.119776    0.019267   \n",
       "224       06001 2020-03-05       0.010639        0.119895    0.016927   \n",
       "280       06001 2020-03-06       0.010242        0.119820    0.014341   \n",
       "...         ...        ...            ...             ...         ...   \n",
       "20160     06001 2021-02-24       0.344247        0.099222    7.063695   \n",
       "20216     06001 2021-02-25       0.342982        0.122985    7.109562   \n",
       "20272     06001 2021-02-26       0.325226        0.624193    6.746090   \n",
       "20328     06001 2021-02-27       0.318205        1.216079    6.585704   \n",
       "20384     06001 2021-02-28       0.337996        1.768820    6.048529   \n",
       "\n",
       "       ground_truth  ground_truth+1  change_health-1  hospital_admit-1  \\\n",
       "56              0.0             1.0         0.011162          0.119646   \n",
       "112             1.0             0.0         0.013988          0.119067   \n",
       "168             0.0             0.0         0.012357          0.119366   \n",
       "224             0.0             0.0         0.011438          0.119776   \n",
       "280             0.0             1.0         0.010639          0.119895   \n",
       "...             ...             ...              ...               ...   \n",
       "20160         153.0           138.0         0.345074          0.093383   \n",
       "20216         138.0           123.0         0.344247          0.099222   \n",
       "20272         123.0           122.0         0.342982          0.122985   \n",
       "20328         122.0            96.0         0.325226          0.624193   \n",
       "20384          96.0            74.0         0.318205          1.216079   \n",
       "\n",
       "       doc_visits-1  \n",
       "56         0.000000  \n",
       "112        0.000000  \n",
       "168        0.000000  \n",
       "224        0.019267  \n",
       "280        0.016927  \n",
       "...             ...  \n",
       "20160      7.354877  \n",
       "20216      7.063695  \n",
       "20272      7.109562  \n",
       "20328      6.746090  \n",
       "20384      6.585704  \n",
       "\n",
       "[364 rows x 10 columns]"
      ]
     },
     "execution_count": 124,
     "metadata": {},
     "output_type": "execute_result"
    }
   ],
   "source": [
    "data_shift = len(merged['geo_value'].unique())\n",
    "# today_list = ['change_health', 'hospital_admit', 'doc_visits', 'restaurants_prop']\n",
    "# yesterday_list = ['change_health-1', 'hospital_admit-1', 'doc_visits-1', 'restaurants_prop-1']\n",
    "today_list = ['change_health', 'hospital_admit', 'doc_visits']\n",
    "yesterday_list = ['change_health-1', 'hospital_admit-1', 'doc_visits-1']\n",
    "\n",
    "# before_yesterday_list = ['change_health-2', 'hospital_admit-2', 'doc_visits-2', 'restaurants_prop-2']\n",
    "\n",
    "merged['ground_truth+1'] = merged['ground_truth'].shift(-1*data_shift)\n",
    "for today, yesterday, before_yesterday in zip(today_list, yesterday_list, before_yesterday_list):\n",
    "    merged[yesterday] = merged[today].shift(data_shift)\n",
    "#     merged[before_yesterday] = merged[today].shift(2*data_shift)\n",
    "    \n",
    "time_series = merged.dropna()\n",
    "time_series[time_series['geo_value']=='06001']"
   ]
  },
  {
   "cell_type": "code",
   "execution_count": 125,
   "id": "eff46b63",
   "metadata": {},
   "outputs": [],
   "source": [
    "# export as a csv\n",
    "# import pandas as pd\n",
    "# compression_opts = dict(method='zip',\n",
    "#                         archive_name='time_series.csv')\n",
    "# time_series.to_csv('time_series.zip', index=False,\n",
    "#           compression=compression_opts)\n",
    "time_series.to_csv('time_series.csv', index=False)"
   ]
  },
  {
   "cell_type": "markdown",
   "id": "d2f2a78c",
   "metadata": {},
   "source": [
    "### Drop NaN values"
   ]
  },
  {
   "cell_type": "code",
   "execution_count": 111,
   "id": "d854c209",
   "metadata": {},
   "outputs": [],
   "source": [
    "# # df_list = [change_health, hospital_admit, doc_visits, restaurants_prop, indicator_combination]\n",
    "# df_list = [change_health, hospital_admit, doc_visits, indicator_combination]\n",
    "\n",
    "# merged = covidcast.aggregate_signals(df_list)"
   ]
  },
  {
   "cell_type": "code",
   "execution_count": 112,
   "id": "22c26dc8",
   "metadata": {},
   "outputs": [],
   "source": [
    "# import numpy as np\n",
    "\n",
    "# merged = merged.rename(\n",
    "#     columns={\n",
    "#         'chng_smoothed_adj_outpatient_covid_0_value': 'change_health',\n",
    "#         'hospital-admissions_smoothed_adj_covid19_from_claims_1_value': 'hospital_admit',\n",
    "# #         'fb-survey_smoothed_cli_3_value': 'survey',\n",
    "#         'doctor-visits_smoothed_adj_cli_2_value': 'doc_visits',\n",
    "# #         'safegraph_restaurants_visit_prop_3_value': 'restaurants_prop',\n",
    "#         'indicator-combination_confirmed_incidence_num_3_value': 'ground_truth'\n",
    "#     }\n",
    "# )\n",
    "\n",
    "# # keep_list = ['geo_value', 'time_value',\n",
    "# #              'change_health', 'hospital_admit',\n",
    "# #              'doc_visits', 'restaurants_prop', 'ground_truth']\n",
    "# keep_list = ['geo_value', 'time_value',\n",
    "#              'change_health', 'hospital_admit',\n",
    "#              'doc_visits', 'ground_truth']\n",
    "# merged = merged[keep_list]\n",
    "# merged = merged.dropna().sort_values(by=['geo_value', 'time_value'])\n",
    "# merged = merged.drop([4982,5038])\n",
    "# merged"
   ]
  },
  {
   "cell_type": "code",
   "execution_count": 113,
   "id": "71744533",
   "metadata": {},
   "outputs": [],
   "source": [
    "# today_list = ['change_health', 'hospital_admit', 'doc_visits']\n",
    "# yesterday_list = ['change_health-1', 'hospital_admit-1', 'doc_visits-1']\n",
    "\n",
    "# # before_yesterday_list = ['change_health-2', 'hospital_admit-2', 'doc_visits-2', 'restaurants_prop-2']\n",
    "\n",
    "# merged['ground_truth+1'] = merged['ground_truth'].shift(-1)\n",
    "# for county in merged['geo_value'].unique():\n",
    "#     merged.loc[merged['geo_value']==county, 'ground_truth+1'] = merged.loc[merged['geo_value']==county, 'ground_truth'].shift(-1)\n",
    "#     for i in range(len(today_list)):\n",
    "#         merged.loc[merged['geo_value']==county, yesterday_list[i]] = merged.loc[merged['geo_value']==county, today_list[i]].shift()\n",
    "    \n",
    "# drop_na = merged.drop(columns='ground_truth').dropna()\n",
    "# drop_na"
   ]
  },
  {
   "cell_type": "code",
   "execution_count": 114,
   "id": "7988f17d",
   "metadata": {},
   "outputs": [],
   "source": [
    "# # export as a csv\n",
    "# import pandas as pd\n",
    "# compression_opts = dict(method='zip',\n",
    "#                         archive_name='drop_na.csv')\n",
    "# drop_na.to_csv('drop_na.zip', index=False,\n",
    "#           compression=compression_opts)"
   ]
  },
  {
   "cell_type": "code",
   "execution_count": null,
   "id": "5432845c",
   "metadata": {},
   "outputs": [],
   "source": []
  }
 ],
 "metadata": {
  "kernelspec": {
   "display_name": "Python 3",
   "language": "python",
   "name": "python3"
  },
  "language_info": {
   "codemirror_mode": {
    "name": "ipython",
    "version": 3
   },
   "file_extension": ".py",
   "mimetype": "text/x-python",
   "name": "python",
   "nbconvert_exporter": "python",
   "pygments_lexer": "ipython3",
   "version": "3.8.8"
  }
 },
 "nbformat": 4,
 "nbformat_minor": 5
}
